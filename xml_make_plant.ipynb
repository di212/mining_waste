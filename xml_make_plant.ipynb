{
 "cells": [
  {
   "cell_type": "code",
   "execution_count": null,
   "metadata": {},
   "outputs": [],
   "source": [
    "# output this recipe to cyclus xml block\n",
    "with open('avg_recipe.xml', 'w') as f:\n",
    "    head = \"<recipe>\\n\\t<name>used_uox_recipe</name>\\n\\t<basis>mass</basis>\\n\"\n",
    "    for row in chosen_assem:\n",
    "        head += '\\t\\t<nuclide> <id>%s</id> <comp>%f</comp> </nuclide>\\n' %(row['isotope'].capitalize(), float(row['total_mass_g']) * 0.1 / total_mass)\n",
    "    head += '</recipe>'\n",
    "    f.write(head)\n",
    "\n",
    "# this recipe block will be used in the calculations."
   ]
  }
 ],
 "metadata": {
  "kernelspec": {
   "display_name": "Python 3.7.8 64-bit",
   "language": "python",
   "name": "python3"
  },
  "language_info": {
   "name": "python",
   "version": "3.7.8"
  },
  "orig_nbformat": 4,
  "vscode": {
   "interpreter": {
    "hash": "0a54084e6b208ee8d1ce3989ffc20924477a5f55f5a43e22e699a6741623861e"
   }
  }
 },
 "nbformat": 4,
 "nbformat_minor": 2
}
